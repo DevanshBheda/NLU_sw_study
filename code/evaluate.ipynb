{
 "cells": [
  {
   "cell_type": "markdown",
   "id": "3bb85662",
   "metadata": {},
   "source": [
    "## Code to evaluate the performance of our models on gujarati word similarity task"
   ]
  },
  {
   "cell_type": "code",
   "execution_count": 1,
   "id": "c1902662",
   "metadata": {},
   "outputs": [],
   "source": [
    "# Importing the necessadry libraries\n",
    "import numpy as np\n",
    "import pandas as pd\n",
    "from sklearn.metrics.pairwise import cosine_similarity\n",
    "from scipy.stats import pearsonr\n",
    "import fasttext\n",
    "import fasttext.util"
   ]
  },
  {
   "cell_type": "code",
   "execution_count": 2,
   "id": "c39fcacf",
   "metadata": {},
   "outputs": [],
   "source": [
    "# Reading the similarity scores data\n",
    "df = pd.read_csv(\"../../Word-Similarity-Datasets-for-Indian-Languages/Gujarati-WS.txt\", delimiter=\"\\t\", header=None)\n",
    "df = df.drop([3], axis=1)\n",
    "df.columns = [\"word1\", \"word2\", \"sim_score\"]"
   ]
  },
  {
   "cell_type": "code",
   "execution_count": 3,
   "id": "6c6771d1",
   "metadata": {},
   "outputs": [],
   "source": [
    "# File storing the results of different configurations of run\n",
    "# stats_df = pd.DataFrame(columns=[\"decomp\", \"comp\", \"filename\", \"score\"])\n",
    "stats_df = pd.read_csv(\"summary.csv\")"
   ]
  },
  {
   "cell_type": "code",
   "execution_count": 4,
   "id": "b90aaed3",
   "metadata": {},
   "outputs": [
    {
     "data": {
      "text/html": [
       "<div>\n",
       "<style scoped>\n",
       "    .dataframe tbody tr th:only-of-type {\n",
       "        vertical-align: middle;\n",
       "    }\n",
       "\n",
       "    .dataframe tbody tr th {\n",
       "        vertical-align: top;\n",
       "    }\n",
       "\n",
       "    .dataframe thead th {\n",
       "        text-align: right;\n",
       "    }\n",
       "</style>\n",
       "<table border=\"1\" class=\"dataframe\">\n",
       "  <thead>\n",
       "    <tr style=\"text-align: right;\">\n",
       "      <th></th>\n",
       "      <th>Unnamed: 0</th>\n",
       "      <th>decomp</th>\n",
       "      <th>comp</th>\n",
       "      <th>filename</th>\n",
       "      <th>score</th>\n",
       "      <th>size</th>\n",
       "    </tr>\n",
       "  </thead>\n",
       "  <tbody>\n",
       "    <tr>\n",
       "      <th>0</th>\n",
       "      <td>0</td>\n",
       "      <td>bpe</td>\n",
       "      <td>mtxatt</td>\n",
       "      <td>gu.sent.1m.bpe.mtxatt.ep15.lr0.01.bs100.vec.txt</td>\n",
       "      <td>0.353574</td>\n",
       "      <td>5L</td>\n",
       "    </tr>\n",
       "    <tr>\n",
       "      <th>1</th>\n",
       "      <td>1</td>\n",
       "      <td>charn</td>\n",
       "      <td>add</td>\n",
       "      <td>gu.sent.1m.charn.add.ep15.lr0.01.bs100.vec.txt</td>\n",
       "      <td>0.402194</td>\n",
       "      <td>5L</td>\n",
       "    </tr>\n",
       "    <tr>\n",
       "      <th>2</th>\n",
       "      <td>2</td>\n",
       "      <td>morf</td>\n",
       "      <td>add</td>\n",
       "      <td>gu.sent.1m.morf.add.ep15.lr0.01.bs100.vec.txt</td>\n",
       "      <td>0.386497</td>\n",
       "      <td>5L</td>\n",
       "    </tr>\n",
       "    <tr>\n",
       "      <th>3</th>\n",
       "      <td>3</td>\n",
       "      <td>bpe</td>\n",
       "      <td>add</td>\n",
       "      <td>gu.sent.1m.bpe.add.ep15.lr0.01.bs100.vec.txt</td>\n",
       "      <td>0.393351</td>\n",
       "      <td>2M</td>\n",
       "    </tr>\n",
       "    <tr>\n",
       "      <th>4</th>\n",
       "      <td>4</td>\n",
       "      <td>bpe</td>\n",
       "      <td>add</td>\n",
       "      <td>gu_5L_add.vec.txt</td>\n",
       "      <td>0.335785</td>\n",
       "      <td>5L</td>\n",
       "    </tr>\n",
       "    <tr>\n",
       "      <th>5</th>\n",
       "      <td>5</td>\n",
       "      <td>bpe</td>\n",
       "      <td>att</td>\n",
       "      <td>gu.sent.1m.bpe.att.ep15.lr0.01.bs100.vec.txt</td>\n",
       "      <td>0.335785</td>\n",
       "      <td>5L</td>\n",
       "    </tr>\n",
       "    <tr>\n",
       "      <th>6</th>\n",
       "      <td>6</td>\n",
       "      <td>bpe</td>\n",
       "      <td>wwadd</td>\n",
       "      <td>gu.sent.1m.bpe.wwadd.ep15.lr0.01.bs100.vec.txt</td>\n",
       "      <td>0.381871</td>\n",
       "      <td>5L</td>\n",
       "    </tr>\n",
       "    <tr>\n",
       "      <th>7</th>\n",
       "      <td>7</td>\n",
       "      <td>charn</td>\n",
       "      <td>wwmtxatt</td>\n",
       "      <td>gu.sent.1m.charn.wwmtxatt.ep15.lr0.01.bs100.ve...</td>\n",
       "      <td>0.390828</td>\n",
       "      <td>5L</td>\n",
       "    </tr>\n",
       "  </tbody>\n",
       "</table>\n",
       "</div>"
      ],
      "text/plain": [
       "   Unnamed: 0 decomp      comp  \\\n",
       "0           0    bpe    mtxatt   \n",
       "1           1  charn       add   \n",
       "2           2   morf       add   \n",
       "3           3    bpe       add   \n",
       "4           4    bpe       add   \n",
       "5           5    bpe       att   \n",
       "6           6    bpe     wwadd   \n",
       "7           7  charn  wwmtxatt   \n",
       "\n",
       "                                            filename     score size  \n",
       "0    gu.sent.1m.bpe.mtxatt.ep15.lr0.01.bs100.vec.txt  0.353574   5L  \n",
       "1     gu.sent.1m.charn.add.ep15.lr0.01.bs100.vec.txt  0.402194   5L  \n",
       "2      gu.sent.1m.morf.add.ep15.lr0.01.bs100.vec.txt  0.386497   5L  \n",
       "3       gu.sent.1m.bpe.add.ep15.lr0.01.bs100.vec.txt  0.393351   2M  \n",
       "4                                  gu_5L_add.vec.txt  0.335785   5L  \n",
       "5       gu.sent.1m.bpe.att.ep15.lr0.01.bs100.vec.txt  0.335785   5L  \n",
       "6     gu.sent.1m.bpe.wwadd.ep15.lr0.01.bs100.vec.txt  0.381871   5L  \n",
       "7  gu.sent.1m.charn.wwmtxatt.ep15.lr0.01.bs100.ve...  0.390828   5L  "
      ]
     },
     "execution_count": 4,
     "metadata": {},
     "output_type": "execute_result"
    }
   ],
   "source": [
    "\n",
    "stats_df"
   ]
  },
  {
   "cell_type": "code",
   "execution_count": 5,
   "id": "0c13831d",
   "metadata": {},
   "outputs": [],
   "source": [
    "# passing in our model configurations and vector files\n",
    "vector_file_path = \"gu.sent.1m.charn.wwatt.ep15.lr0.01.bs100.vec.txt\"\n",
    "decomp = \"charn\"\n",
    "comp = \"wwatt\"\n",
    "corpus_size = \"5L\""
   ]
  },
  {
   "cell_type": "code",
   "execution_count": 6,
   "id": "6d3afb8b",
   "metadata": {},
   "outputs": [],
   "source": [
    "# Reading the vectors in appropriate format\n",
    "with open(vector_file_path) as f:\n",
    "    vectors = f.read()\n",
    "    vectors = vectors.split(\"\\n\")\n",
    "    \n",
    "vector_dict = {}\n",
    "for vector in vectors[1:-1]:\n",
    "    vector = vector.split()\n",
    "    word = vector[0]\n",
    "    emb = np.array([float(v) for v in vector[1:]])\n",
    "    vector_dict[word] = emb"
   ]
  },
  {
   "cell_type": "code",
   "execution_count": 9,
   "id": "c7682420",
   "metadata": {},
   "outputs": [],
   "source": [
    "# vocabulary of our model\n",
    "words = vector_dict.keys()"
   ]
  },
  {
   "cell_type": "code",
   "execution_count": 10,
   "id": "d0a1991b",
   "metadata": {},
   "outputs": [],
   "source": [
    "# calculating the similarity score of evaluation word pairs through our embeddings\n",
    "scores = []\n",
    "for ix, (word1, word2, _) in df.iterrows():\n",
    "    if word1 in words and word2 in words:\n",
    "        vec1 = vector_dict[word1].reshape(-1, 1).T\n",
    "        vec2 = vector_dict[word2].reshape(-1, 1).T\n",
    "        score = cosine_similarity(vec1, vec2)*10\n",
    "        score = score[0][0]\n",
    "    else:\n",
    "        score = 0\n",
    "    \n",
    "    scores.append(score)\n",
    "    "
   ]
  },
  {
   "cell_type": "code",
   "execution_count": 11,
   "id": "7408ab22",
   "metadata": {},
   "outputs": [],
   "source": [
    "# calculating the correlation\n",
    "corr, _ = pearsonr(df[\"sim_score\"], scores)"
   ]
  },
  {
   "cell_type": "code",
   "execution_count": 12,
   "id": "b8dfe86f",
   "metadata": {},
   "outputs": [
    {
     "name": "stdout",
     "output_type": "stream",
     "text": [
      "0.3657216353199176\n"
     ]
    }
   ],
   "source": [
    "print(corr)"
   ]
  },
  {
   "cell_type": "code",
   "execution_count": 13,
   "id": "aae328f2",
   "metadata": {},
   "outputs": [],
   "source": [
    "# adding everything in our stats data file\n",
    "d = {\"decomp\": decomp, \"comp\": comp, \"filename\": vector_file_path, \"score\": corr, \"size\": corpus_size}\n",
    "stats_df = stats_df.append(d, ignore_index=True)"
   ]
  },
  {
   "cell_type": "code",
   "execution_count": 14,
   "id": "6df5d7e4",
   "metadata": {
    "scrolled": true
   },
   "outputs": [
    {
     "data": {
      "text/html": [
       "<div>\n",
       "<style scoped>\n",
       "    .dataframe tbody tr th:only-of-type {\n",
       "        vertical-align: middle;\n",
       "    }\n",
       "\n",
       "    .dataframe tbody tr th {\n",
       "        vertical-align: top;\n",
       "    }\n",
       "\n",
       "    .dataframe thead th {\n",
       "        text-align: right;\n",
       "    }\n",
       "</style>\n",
       "<table border=\"1\" class=\"dataframe\">\n",
       "  <thead>\n",
       "    <tr style=\"text-align: right;\">\n",
       "      <th></th>\n",
       "      <th>Unnamed: 0</th>\n",
       "      <th>decomp</th>\n",
       "      <th>comp</th>\n",
       "      <th>filename</th>\n",
       "      <th>score</th>\n",
       "      <th>size</th>\n",
       "    </tr>\n",
       "  </thead>\n",
       "  <tbody>\n",
       "    <tr>\n",
       "      <th>0</th>\n",
       "      <td>0.0</td>\n",
       "      <td>bpe</td>\n",
       "      <td>mtxatt</td>\n",
       "      <td>gu.sent.1m.bpe.mtxatt.ep15.lr0.01.bs100.vec.txt</td>\n",
       "      <td>0.353574</td>\n",
       "      <td>5L</td>\n",
       "    </tr>\n",
       "    <tr>\n",
       "      <th>1</th>\n",
       "      <td>1.0</td>\n",
       "      <td>charn</td>\n",
       "      <td>add</td>\n",
       "      <td>gu.sent.1m.charn.add.ep15.lr0.01.bs100.vec.txt</td>\n",
       "      <td>0.402194</td>\n",
       "      <td>5L</td>\n",
       "    </tr>\n",
       "    <tr>\n",
       "      <th>2</th>\n",
       "      <td>2.0</td>\n",
       "      <td>morf</td>\n",
       "      <td>add</td>\n",
       "      <td>gu.sent.1m.morf.add.ep15.lr0.01.bs100.vec.txt</td>\n",
       "      <td>0.386497</td>\n",
       "      <td>5L</td>\n",
       "    </tr>\n",
       "    <tr>\n",
       "      <th>3</th>\n",
       "      <td>3.0</td>\n",
       "      <td>bpe</td>\n",
       "      <td>add</td>\n",
       "      <td>gu.sent.1m.bpe.add.ep15.lr0.01.bs100.vec.txt</td>\n",
       "      <td>0.393351</td>\n",
       "      <td>2M</td>\n",
       "    </tr>\n",
       "    <tr>\n",
       "      <th>4</th>\n",
       "      <td>4.0</td>\n",
       "      <td>bpe</td>\n",
       "      <td>add</td>\n",
       "      <td>gu_5L_add.vec.txt</td>\n",
       "      <td>0.335785</td>\n",
       "      <td>5L</td>\n",
       "    </tr>\n",
       "    <tr>\n",
       "      <th>5</th>\n",
       "      <td>5.0</td>\n",
       "      <td>bpe</td>\n",
       "      <td>att</td>\n",
       "      <td>gu.sent.1m.bpe.att.ep15.lr0.01.bs100.vec.txt</td>\n",
       "      <td>0.335785</td>\n",
       "      <td>5L</td>\n",
       "    </tr>\n",
       "    <tr>\n",
       "      <th>6</th>\n",
       "      <td>6.0</td>\n",
       "      <td>bpe</td>\n",
       "      <td>wwadd</td>\n",
       "      <td>gu.sent.1m.bpe.wwadd.ep15.lr0.01.bs100.vec.txt</td>\n",
       "      <td>0.381871</td>\n",
       "      <td>5L</td>\n",
       "    </tr>\n",
       "    <tr>\n",
       "      <th>7</th>\n",
       "      <td>7.0</td>\n",
       "      <td>charn</td>\n",
       "      <td>wwmtxatt</td>\n",
       "      <td>gu.sent.1m.charn.wwmtxatt.ep15.lr0.01.bs100.ve...</td>\n",
       "      <td>0.390828</td>\n",
       "      <td>5L</td>\n",
       "    </tr>\n",
       "    <tr>\n",
       "      <th>8</th>\n",
       "      <td>NaN</td>\n",
       "      <td>charn</td>\n",
       "      <td>wwatt</td>\n",
       "      <td>gu.sent.1m.charn.wwatt.ep15.lr0.01.bs100.vec.txt</td>\n",
       "      <td>0.365722</td>\n",
       "      <td>5L</td>\n",
       "    </tr>\n",
       "  </tbody>\n",
       "</table>\n",
       "</div>"
      ],
      "text/plain": [
       "   Unnamed: 0 decomp      comp  \\\n",
       "0         0.0    bpe    mtxatt   \n",
       "1         1.0  charn       add   \n",
       "2         2.0   morf       add   \n",
       "3         3.0    bpe       add   \n",
       "4         4.0    bpe       add   \n",
       "5         5.0    bpe       att   \n",
       "6         6.0    bpe     wwadd   \n",
       "7         7.0  charn  wwmtxatt   \n",
       "8         NaN  charn     wwatt   \n",
       "\n",
       "                                            filename     score size  \n",
       "0    gu.sent.1m.bpe.mtxatt.ep15.lr0.01.bs100.vec.txt  0.353574   5L  \n",
       "1     gu.sent.1m.charn.add.ep15.lr0.01.bs100.vec.txt  0.402194   5L  \n",
       "2      gu.sent.1m.morf.add.ep15.lr0.01.bs100.vec.txt  0.386497   5L  \n",
       "3       gu.sent.1m.bpe.add.ep15.lr0.01.bs100.vec.txt  0.393351   2M  \n",
       "4                                  gu_5L_add.vec.txt  0.335785   5L  \n",
       "5       gu.sent.1m.bpe.att.ep15.lr0.01.bs100.vec.txt  0.335785   5L  \n",
       "6     gu.sent.1m.bpe.wwadd.ep15.lr0.01.bs100.vec.txt  0.381871   5L  \n",
       "7  gu.sent.1m.charn.wwmtxatt.ep15.lr0.01.bs100.ve...  0.390828   5L  \n",
       "8   gu.sent.1m.charn.wwatt.ep15.lr0.01.bs100.vec.txt  0.365722   5L  "
      ]
     },
     "execution_count": 14,
     "metadata": {},
     "output_type": "execute_result"
    }
   ],
   "source": [
    "stats_df"
   ]
  },
  {
   "cell_type": "markdown",
   "id": "2a0fbf39",
   "metadata": {},
   "source": [
    "### Calculating performance of ft-text"
   ]
  },
  {
   "cell_type": "code",
   "execution_count": 45,
   "id": "6f228e05",
   "metadata": {},
   "outputs": [
    {
     "name": "stderr",
     "output_type": "stream",
     "text": [
      "Warning : `load_model` does not return WordVectorModel or SupervisedModel any more, but a `FastText` object which is very similar.\n"
     ]
    }
   ],
   "source": [
    "#fasttext.util.download_model('gu', if_exists='ignore')\n",
    "ft = fasttext.load_model('cc.gu.300.bin')"
   ]
  },
  {
   "cell_type": "code",
   "execution_count": 49,
   "id": "0255bc60",
   "metadata": {},
   "outputs": [],
   "source": [
    "df = df.drop([\"predicted_score\"], axis=1)"
   ]
  },
  {
   "cell_type": "code",
   "execution_count": 54,
   "id": "54ef275f",
   "metadata": {},
   "outputs": [],
   "source": [
    "scores = []\n",
    "for ix, (word1, word2, _) in df.iterrows():\n",
    "    vec1 = ft.get_word_vector(word1).reshape(-1,1).T\n",
    "    vec2 = ft.get_word_vector(word2).reshape(-1,1).T\n",
    "    cosine_sim = cosine_similarity(vec1, vec2)[0][0]*10\n",
    "    scores.append(cosine_sim)"
   ]
  },
  {
   "cell_type": "code",
   "execution_count": 56,
   "id": "44093689",
   "metadata": {},
   "outputs": [
    {
     "name": "stdout",
     "output_type": "stream",
     "text": [
      "Correlation:  0.46852529426143874\n"
     ]
    }
   ],
   "source": [
    "corr, _ = pearsonr(df[\"sim_score\"], scores)\n",
    "print(\"Correlation: \", corr)"
   ]
  },
  {
   "cell_type": "code",
   "execution_count": null,
   "id": "dc385a57",
   "metadata": {},
   "outputs": [],
   "source": []
  }
 ],
 "metadata": {
  "kernelspec": {
   "display_name": "Python 3 (ipykernel)",
   "language": "python",
   "name": "python3"
  },
  "language_info": {
   "codemirror_mode": {
    "name": "ipython",
    "version": 3
   },
   "file_extension": ".py",
   "mimetype": "text/x-python",
   "name": "python",
   "nbconvert_exporter": "python",
   "pygments_lexer": "ipython3",
   "version": "3.7.5"
  }
 },
 "nbformat": 4,
 "nbformat_minor": 5
}
