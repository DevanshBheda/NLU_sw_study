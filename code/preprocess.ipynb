{
 "cells": [
  {
   "cell_type": "code",
   "execution_count": 2,
   "id": "fa075f91",
   "metadata": {},
   "outputs": [],
   "source": [
    "#!pip install indic-nlp-library"
   ]
  },
  {
   "cell_type": "code",
   "execution_count": 3,
   "id": "3931b4b0",
   "metadata": {},
   "outputs": [],
   "source": [
    "from indicnlp.normalize.indic_normalize import GujaratiNormalizer"
   ]
  },
  {
   "cell_type": "code",
   "execution_count": 5,
   "id": "2713c151",
   "metadata": {},
   "outputs": [],
   "source": [
    "normalizer = GujaratiNormalizer()"
   ]
  },
  {
   "cell_type": "code",
   "execution_count": 50,
   "id": "21ac1c0a",
   "metadata": {},
   "outputs": [],
   "source": [
    "with open(\"../toy_data/gu/gu.sent.1m\") as f:\n",
    "    lines = f.read()\n",
    "    lines = [l for l in lines.split(\"\\n\") if l]"
   ]
  },
  {
   "cell_type": "code",
   "execution_count": 51,
   "id": "1c570e93",
   "metadata": {},
   "outputs": [
    {
     "data": {
      "text/plain": [
       "41129078"
      ]
     },
     "execution_count": 51,
     "metadata": {},
     "output_type": "execute_result"
    }
   ],
   "source": [
    "len(lines)"
   ]
  },
  {
   "cell_type": "code",
   "execution_count": 53,
   "id": "c956b03c",
   "metadata": {},
   "outputs": [],
   "source": [
    "replaced_lines = []\n",
    "for line in lines:\n",
    "    line = line.translate(str.maketrans('', '', string.punctuation))\n",
    "    line = normalizer.normalize(line)\n",
    "    replaced_lines.append(line)"
   ]
  },
  {
   "cell_type": "code",
   "execution_count": 54,
   "id": "b96a8e20",
   "metadata": {},
   "outputs": [
    {
     "data": {
      "text/plain": [
       "41129078"
      ]
     },
     "execution_count": 54,
     "metadata": {},
     "output_type": "execute_result"
    }
   ],
   "source": [
    "len(replaced_lines)"
   ]
  },
  {
   "cell_type": "code",
   "execution_count": null,
   "id": "5df97de2",
   "metadata": {},
   "outputs": [],
   "source": [
    "print(\"thi\")"
   ]
  },
  {
   "cell_type": "code",
   "execution_count": 55,
   "id": "6a3eff78",
   "metadata": {},
   "outputs": [
    {
     "ename": "KeyboardInterrupt",
     "evalue": "",
     "output_type": "error",
     "traceback": [
      "\u001b[0;31m---------------------------------------------------------------------------\u001b[0m",
      "\u001b[0;31mKeyboardInterrupt\u001b[0m                         Traceback (most recent call last)",
      "\u001b[0;32m/tmp/ipykernel_33403/1515073703.py\u001b[0m in \u001b[0;36m<module>\u001b[0;34m\u001b[0m\n\u001b[1;32m      3\u001b[0m     \u001b[0;32mfor\u001b[0m \u001b[0mword\u001b[0m \u001b[0;32min\u001b[0m \u001b[0mline\u001b[0m\u001b[0;34m.\u001b[0m\u001b[0msplit\u001b[0m\u001b[0;34m(\u001b[0m\u001b[0;34m\" \"\u001b[0m\u001b[0;34m)\u001b[0m\u001b[0;34m:\u001b[0m\u001b[0;34m\u001b[0m\u001b[0;34m\u001b[0m\u001b[0m\n\u001b[1;32m      4\u001b[0m         \u001b[0mword\u001b[0m \u001b[0;34m=\u001b[0m \u001b[0mword\u001b[0m\u001b[0;34m.\u001b[0m\u001b[0mstrip\u001b[0m\u001b[0;34m(\u001b[0m\u001b[0;34m)\u001b[0m\u001b[0;34m\u001b[0m\u001b[0;34m\u001b[0m\u001b[0m\n\u001b[0;32m----> 5\u001b[0;31m         \u001b[0;32mif\u001b[0m \u001b[0mword\u001b[0m \u001b[0;32mnot\u001b[0m \u001b[0;32min\u001b[0m \u001b[0mtokens\u001b[0m\u001b[0;34m:\u001b[0m\u001b[0;34m\u001b[0m\u001b[0;34m\u001b[0m\u001b[0m\n\u001b[0m\u001b[1;32m      6\u001b[0m             \u001b[0mtokens\u001b[0m\u001b[0;34m.\u001b[0m\u001b[0mappend\u001b[0m\u001b[0;34m(\u001b[0m\u001b[0mword\u001b[0m\u001b[0;34m)\u001b[0m\u001b[0;34m\u001b[0m\u001b[0;34m\u001b[0m\u001b[0m\n",
      "\u001b[0;31mKeyboardInterrupt\u001b[0m: "
     ]
    }
   ],
   "source": [
    "tokens = []\n",
    "for line in replaced_lines:\n",
    "    for word in line.split(\" \"):\n",
    "        word = word.strip()\n",
    "        if word not in tokens:\n",
    "            tokens.append(word)"
   ]
  },
  {
   "cell_type": "code",
   "execution_count": 16,
   "id": "e89bec52",
   "metadata": {},
   "outputs": [],
   "source": [
    "b = normalizer.normalize(lines[1000])"
   ]
  },
  {
   "cell_type": "code",
   "execution_count": 17,
   "id": "9be44d89",
   "metadata": {},
   "outputs": [
    {
     "data": {
      "text/plain": [
       "True"
      ]
     },
     "execution_count": 17,
     "metadata": {},
     "output_type": "execute_result"
    }
   ],
   "source": [
    "a == b"
   ]
  },
  {
   "cell_type": "code",
   "execution_count": 18,
   "id": "bc1f454c",
   "metadata": {},
   "outputs": [],
   "source": [
    "import string"
   ]
  },
  {
   "cell_type": "code",
   "execution_count": 22,
   "id": "0fed0838",
   "metadata": {},
   "outputs": [],
   "source": [
    "import re"
   ]
  },
  {
   "cell_type": "code",
   "execution_count": 39,
   "id": "af6c5e9a",
   "metadata": {},
   "outputs": [
    {
     "data": {
      "text/plain": [
       "'૯મ ઓગસટ ૨૦૧૬ન રજ આદવસ વકસ સગઠન દવર આદવસ ભવન ખત ખબ જ ઉતસહભર ઉજવણ કરવમ આવશ'"
      ]
     },
     "execution_count": 39,
     "metadata": {},
     "output_type": "execute_result"
    }
   ],
   "source": [
    "re.sub(r'[^\\w\\s]', '', lines[0])"
   ]
  },
  {
   "cell_type": "code",
   "execution_count": 46,
   "id": "31a2f4c6",
   "metadata": {},
   "outputs": [],
   "source": [
    "test_str = lines[1010].translate(str.maketrans('', '', string.punctuation))"
   ]
  },
  {
   "cell_type": "code",
   "execution_count": 47,
   "id": "b1551543",
   "metadata": {},
   "outputs": [
    {
     "data": {
      "text/plain": [
       "'આ રચના વૃક્ષ અંદર રાળ માર્ગો મારફતે નેવિગેટ કરવા માટે તેને શક્ય બનાવે છે'"
      ]
     },
     "execution_count": 47,
     "metadata": {},
     "output_type": "execute_result"
    }
   ],
   "source": [
    "test_str"
   ]
  },
  {
   "cell_type": "code",
   "execution_count": 48,
   "id": "8178f312",
   "metadata": {},
   "outputs": [
    {
     "data": {
      "text/plain": [
       "'આ રચના વૃક્ષ અંદર રાળ માર્ગો મારફતે નેવિગેટ કરવા માટે તેને શક્ય બનાવે છે'"
      ]
     },
     "execution_count": 48,
     "metadata": {},
     "output_type": "execute_result"
    }
   ],
   "source": [
    "normalizer.normalize(test_str)"
   ]
  },
  {
   "cell_type": "code",
   "execution_count": 49,
   "id": "55d95fb3",
   "metadata": {},
   "outputs": [
    {
     "data": {
      "text/plain": [
       "10000"
      ]
     },
     "execution_count": 49,
     "metadata": {},
     "output_type": "execute_result"
    }
   ],
   "source": [
    "len(lines)"
   ]
  },
  {
   "cell_type": "code",
   "execution_count": null,
   "id": "c8ac82d8",
   "metadata": {},
   "outputs": [],
   "source": []
  }
 ],
 "metadata": {
  "kernelspec": {
   "display_name": "Python 3 (ipykernel)",
   "language": "python",
   "name": "python3"
  },
  "language_info": {
   "codemirror_mode": {
    "name": "ipython",
    "version": 3
   },
   "file_extension": ".py",
   "mimetype": "text/x-python",
   "name": "python",
   "nbconvert_exporter": "python",
   "pygments_lexer": "ipython3",
   "version": "3.7.5"
  }
 },
 "nbformat": 4,
 "nbformat_minor": 5
}
